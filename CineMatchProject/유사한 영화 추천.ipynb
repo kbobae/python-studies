{
 "cells": [
  {
   "cell_type": "markdown",
   "id": "301e8ce2-181e-4748-83db-1bda967d7f1b",
   "metadata": {},
   "source": [
    "# 유사한 영화 추천 알고리즘"
   ]
  },
  {
   "cell_type": "code",
   "execution_count": 1,
   "id": "a9db5fda-3ed5-4810-9c0f-395b00f43e09",
   "metadata": {},
   "outputs": [
    {
     "name": "stdout",
     "output_type": "stream",
     "text": [
      "Requirement already satisfied: tmdbv3api in c:\\users\\bobae\\anaconda3\\lib\\site-packages (1.9.0)\n",
      "Requirement already satisfied: requests in c:\\users\\bobae\\anaconda3\\lib\\site-packages (from tmdbv3api) (2.32.2)\n",
      "Requirement already satisfied: charset-normalizer<4,>=2 in c:\\users\\bobae\\anaconda3\\lib\\site-packages (from requests->tmdbv3api) (2.0.4)\n",
      "Requirement already satisfied: idna<4,>=2.5 in c:\\users\\bobae\\anaconda3\\lib\\site-packages (from requests->tmdbv3api) (3.7)\n",
      "Requirement already satisfied: urllib3<3,>=1.21.1 in c:\\users\\bobae\\anaconda3\\lib\\site-packages (from requests->tmdbv3api) (2.2.2)\n",
      "Requirement already satisfied: certifi>=2017.4.17 in c:\\users\\bobae\\anaconda3\\lib\\site-packages (from requests->tmdbv3api) (2024.8.30)\n",
      "Note: you may need to restart the kernel to use updated packages.\n"
     ]
    }
   ],
   "source": [
    "pip install tmdbv3api"
   ]
  },
  {
   "cell_type": "code",
   "execution_count": 2,
   "id": "ad599f79-96a2-46ba-93d7-714d9736c133",
   "metadata": {},
   "outputs": [],
   "source": [
    "import pickle # 저장된 데이터를 불러오기 위함\n",
    "from tmdbv3api import Movie, TMDb # TMDb API를 통해 영화 데이터를 가져오기 위해 필요한 모듈"
   ]
  },
  {
   "cell_type": "code",
   "execution_count": 3,
   "id": "130f7fd5-e15f-4840-8042-b564627dbaf4",
   "metadata": {},
   "outputs": [],
   "source": [
    "# TMDb API를 설정하는 부분\n",
    "movie = Movie() # TMDb API의 Movie 객체 생성\n",
    "tmdb = TMDb() # TMDb 설정 객체 생성\n",
    "tmdb.api_key = '0ee6a32fe14b93379e743072a6c9cf58' # 발급받은 TMDb API 키를 설정\n",
    "tmdb.language = 'ko-KR' # API 응답 언어를 한국어로 설정"
   ]
  },
  {
   "cell_type": "code",
   "execution_count": 4,
   "id": "c976404c-3ba4-4fd9-9dc3-61f8622d50bf",
   "metadata": {},
   "outputs": [],
   "source": [
    "# 영화 추천을 처리하는 함수 정의(입력된 영화 제목에 기반하여 유사한 영화 목록을 추천하는 함수)\n",
    "def get_recommendations(title):\n",
    "\n",
    "    # 입력된 영화 제목으로 해당 영화의 인덱스 값을 찾음\n",
    "    idx = movies[movies['title'] == title].index[0]\n",
    "    \n",
    "    # 코사인 유사도를 기준으로 영화와 다른 영화 간의 유사도를 계산한 값을 가져옴\n",
    "    sim_scores = list(enumerate(cosine_sim[idx]))\n",
    "    \n",
    "    # 유사도를 기준으로 내림차순으로 정렬하여 유사한 영화 순서대로 나열\n",
    "    sim_scores = sorted(sim_scores, key=lambda x: x[1], reverse=True)\n",
    "    \n",
    "    # 자기 자신(첫 번째 영화)을 제외하고 상위 10개의 유사한 영화를 선택\n",
    "    sim_scores = sim_scores[1:11]\n",
    "    \n",
    "    # 추천 영화의 인덱스 리스트를 추출\n",
    "    movie_indices = [i[0] for i in sim_scores]\n",
    "    \n",
    "    # 추천 영화의 포스터 이미지 URL과 영화 제목 리스트 생성\n",
    "    images = [] \n",
    "    titles = [] \n",
    "    for i in movie_indices:\n",
    "        id = movies['id'].iloc[i]  # 영화의 고유 ID를 가져옴\n",
    "        details = movie.details(id)  # TMDb API를 사용해 영화의 상세 정보를 가져옴\n",
    "\n",
    "        # 포스터 이미지 경로가 있는 경우 해당 경로를 완성하여 추가, 없는 경우 기본 이미지를 추가\n",
    "        image_path = details['poster_path']\n",
    "        if image_path:\n",
    "            image_path = 'https://image.tmdb.org/t/p/w500' + image_path\n",
    "        else:\n",
    "            image_path = 'no_image.jpg'  # 이미지가 없는 경우 사용할 기본 이미지\n",
    "        \n",
    "        # 포스터 URL과 영화 제목을 리스트에 추가\n",
    "        images.append(image_path)\n",
    "        titles.append(details['title'])  # 언어 설정에 따라 한국어 제목이 반환됨\n",
    "\n",
    "    return images, titles  # 영화 포스터와 제목 리스트 반환"
   ]
  },
  {
   "cell_type": "code",
   "execution_count": 5,
   "id": "71d18d13-76b4-41a3-afbd-ae4998ec0200",
   "metadata": {},
   "outputs": [],
   "source": [
    "# 데이터 준비\n",
    "# 미리 저장된 영화 데이터와 코사인 유사도 행렬을 피클 파일에서 불러옴\n",
    "movies = pickle.load(open('movies.pickle', 'rb'))  # movies.pickle 파일에서 영화 데이터 불러오기\n",
    "cosine_sim = pickle.load(open('cosine_sim.pickle', 'rb'))  # cosine_sim.pickle 파일에서 코사인 유사도 행렬 불러오기"
   ]
  },
  {
   "cell_type": "code",
   "execution_count": 6,
   "id": "f2e003c6-beca-4223-a326-efa5f321a642",
   "metadata": {},
   "outputs": [],
   "source": [
    "# 테스트할 영화 제목 설정 (사용자가 선호하는 영화 제목을 여기에 입력)\n",
    "title = 'Up'  # 추천을 받고 싶은 영화 제목을 입력하세요"
   ]
  },
  {
   "cell_type": "code",
   "execution_count": 7,
   "id": "bfdb762c-f24f-4c92-be27-aa14a131dc29",
   "metadata": {},
   "outputs": [],
   "source": [
    "# 추천 영화 목록 가져오기\n",
    "images, titles = get_recommendations(title)  # 입력한 영화에 대한 추천 영화 목록 가져오기"
   ]
  },
  {
   "cell_type": "code",
   "execution_count": 8,
   "id": "182e9ce1-f8d6-4589-ad50-3c198fe42a18",
   "metadata": {},
   "outputs": [
    {
     "name": "stdout",
     "output_type": "stream",
     "text": [
      "Title: 몬스터 주식회사, Image: https://image.tmdb.org/t/p/w500/fnDLrtEoIrxTCWUvuurMzOzQGpQ.jpg\n",
      "Title: 미트 더 디들스, Image: https://image.tmdb.org/t/p/w500/fJw73MvTkSdYloesTQSS1zi3IsL.jpg\n",
      "Title: Alpha and Omega: The Legend of the Saw Tooth Cave, Image: https://image.tmdb.org/t/p/w500/rUgutlhSQabaKO5DPBE2Co8mlyF.jpg\n",
      "Title: 엘사 앤 프레드, Image: https://image.tmdb.org/t/p/w500/yNzVwtlqOmPLVKD5zZIzAME9vYc.jpg\n",
      "Title: 넛잡: 땅콩 도둑들, Image: https://image.tmdb.org/t/p/w500/xf3b4baesQzc3lCgYI4JCPOzRoL.jpg\n",
      "Title: Running Forever, Image: https://image.tmdb.org/t/p/w500/u4KHwcZmNH0Vr6xpGvDKdkBTopg.jpg\n",
      "Title: 찰리 브라운의 크리스마스, Image: https://image.tmdb.org/t/p/w500/vtaufTzJBMJAeziQA1eP4BLU24C.jpg\n",
      "Title: 카 2, Image: https://image.tmdb.org/t/p/w500/azNYfwYnrdCVB3uzZaRl0JIx4N0.jpg\n",
      "Title: 토이 스토리 3, Image: https://image.tmdb.org/t/p/w500/hbUWahBLUon8RaIb9Tq7aWCBCtS.jpg\n",
      "Title: 인사이드 아웃, Image: https://image.tmdb.org/t/p/w500/rMXHvHzpuYZXrJUhRVJ3TvDSwe5.jpg\n"
     ]
    }
   ],
   "source": [
    "# 결과 출력\n",
    "# 추천된 영화의 포스터와 제목을 출력함\n",
    "for img, t in zip(images, titles):\n",
    "    print(f\"Title: {t}, Image: {img}\")"
   ]
  }
 ],
 "metadata": {
  "kernelspec": {
   "display_name": "Python 3 (ipykernel)",
   "language": "python",
   "name": "python3"
  },
  "language_info": {
   "codemirror_mode": {
    "name": "ipython",
    "version": 3
   },
   "file_extension": ".py",
   "mimetype": "text/x-python",
   "name": "python",
   "nbconvert_exporter": "python",
   "pygments_lexer": "ipython3",
   "version": "3.12.3"
  }
 },
 "nbformat": 4,
 "nbformat_minor": 5
}
