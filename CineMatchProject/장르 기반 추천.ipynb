{
 "cells": [
  {
   "cell_type": "markdown",
   "id": "50a83611-8f05-47cb-ae03-7e4f8341e80e",
   "metadata": {},
   "source": [
    "# 장르 기반 추천\n",
    "- 목적: 사용자가 선호하는 장르에서 높은 평점을 받은 영화를 추천"
   ]
  },
  {
   "cell_type": "markdown",
   "id": "0d166618-bbd5-42a9-acde-7f08dd2f0f49",
   "metadata": {},
   "source": [
    "1. 사용자의 선호 장르를 기준으로 해당 장르에서 평점이 높은 영화를 필터링\n",
    "2. TMDb API의 영화 데이터를 이용해 평점 순으로 정렬한 다음, 상위 평점을 가진 영화를 추천"
   ]
  },
  {
   "cell_type": "code",
   "execution_count": 4,
   "id": "54825ee2-842d-44b1-b5db-14386d8edfff",
   "metadata": {},
   "outputs": [],
   "source": [
    "import pickle # 저장된 데이터를 불러오기 위함\n",
    "from tmdbv3api import Movie, TMDb, Discover # TMDb API를 통해 영화 데이터를 가져오기 위해 필요한 모듈"
   ]
  },
  {
   "cell_type": "code",
   "execution_count": 5,
   "id": "70e704ce-1c6b-4cb2-86a1-db83ab49fbe2",
   "metadata": {},
   "outputs": [],
   "source": [
    "# TMDb API를 설정하는 부분\n",
    "movie = Movie() # TMDb API의 Movie 객체 생성\n",
    "tmdb = TMDb() # TMDb 설정 객체 생성\n",
    "discover = Discover()  # Discover 객체 생성\n",
    "tmdb.api_key = '0ee6a32fe14b93379e743072a6c9cf58' # 발급받은 TMDb API 키를 설정\n",
    "tmdb.language = 'ko-KR' # API 응답 언어를 한국어로 설정"
   ]
  },
  {
   "cell_type": "code",
   "execution_count": 28,
   "id": "68006e22-241e-4e10-bc2b-36f5e9901db1",
   "metadata": {},
   "outputs": [],
   "source": [
    "def get_genre_based_recommendations(genre):\n",
    "    # Discover 객체를 사용해 해당 장르의 영화 목록 가져오기 (평점 순으로 정렬)\n",
    "    movies_in_genre = discover.discover_movies({\n",
    "        'with_genres': genre,\n",
    "        'sort_by': 'popularity.desc'  # 인기도 순으로 정렬\n",
    "    })\n",
    "    \n",
    "    # 영화 포스터와 제목 리스트 생성\n",
    "    images = []\n",
    "    titles = []\n",
    "    # movies_in_genre는 객체 형태로 반환되므로 리스트로 변환한 후 상위 10개 영화만 처리\n",
    "    for movie_info in list(movies_in_genre)[:10]:\n",
    "        poster_path = movie_info.poster_path\n",
    "        if poster_path:\n",
    "            poster_url = 'https://image.tmdb.org/t/p/w500' + poster_path\n",
    "        else:\n",
    "            poster_url = 'no_image.jpg'  # 포스터 이미지가 없을 경우 기본 이미지\n",
    "\n",
    "        # 영화의 포스터 URL과 한국어 제목 리스트에 추가\n",
    "        images.append(poster_url)\n",
    "        titles.append(movie_info.title)  # 한국어 제목 반환\n",
    "\n",
    "    return images, titles  # 영화 포스터와 제목 리스트 반환"
   ]
  },
  {
   "cell_type": "code",
   "execution_count": 32,
   "id": "f0c3cda7-e900-47cb-8c3e-35de665d1514",
   "metadata": {},
   "outputs": [],
   "source": [
    "#TMDb 장르 ID 목록 예시:\n",
    "#액션 (28), 모험 (12), 애니메이션 (16), 코미디 (35), 범죄 (80), 다큐멘터리 (99), 드라마 (18), 가족 (10751), \n",
    "#판타지 (14), 역사 (36), 공포 (27), 음악 (10402), 미스터리 (9648), 로맨스 (10749), SF (878), 스릴러 (53), \n",
    "#전쟁 (10752), 서부 (37)\n",
    "\n",
    "# 장르 ID 예시\n",
    "genre_id = 35"
   ]
  },
  {
   "cell_type": "code",
   "execution_count": 33,
   "id": "5cfbe734-7808-4b63-b6c5-4a602f73172e",
   "metadata": {},
   "outputs": [],
   "source": [
    "# 장르 기반 추천 영화 목록 가져오기\n",
    "images, titles = get_genre_based_recommendations(genre_id)"
   ]
  },
  {
   "cell_type": "code",
   "execution_count": 34,
   "id": "3419d226-9b53-44ea-b046-1257a9e0dcea",
   "metadata": {},
   "outputs": [
    {
     "name": "stdout",
     "output_type": "stream",
     "text": [
      "Title: 데드풀과 울버린, Poster: https://image.tmdb.org/t/p/w500/4Zb4Z2HjX1t5zr1qYOTdVoisJKp.jpg\n",
      "Title: 인사이드 아웃 2, Poster: https://image.tmdb.org/t/p/w500/x2BHx02jMbvpKjMvbf8XxJkYwHJ.jpg\n",
      "Title: 슈퍼배드 4, Poster: https://image.tmdb.org/t/p/w500/5hl1PEpAvZ8Ok37kB7woIssHi3X.jpg\n",
      "Title: 보더랜드, Poster: https://image.tmdb.org/t/p/w500/865DntZzOdX6rLMd405R0nFkLmL.jpg\n",
      "Title: 나쁜 녀석들: 라이드 오어 다이, Poster: https://image.tmdb.org/t/p/w500/wIrhEUBWjRmZuL1Ix41cF2LhJrW.jpg\n",
      "Title: 무도실무관, Poster: https://image.tmdb.org/t/p/w500/iuwUEZYNOHzhoNoRj6mcXd2xbYr.jpg\n",
      "Title: 비틀쥬스 비틀쥬스, Poster: https://image.tmdb.org/t/p/w500/ypWQatJYyESE5PIzdlSdiOyWYja.jpg\n",
      "Title: 다람이 무비: 비키니 시티를 구하라, Poster: https://image.tmdb.org/t/p/w500/30YnfZdMNIV7noWLdvmcJS0cbnQ.jpg\n",
      "Title: 가필드 더 무비, Poster: https://image.tmdb.org/t/p/w500/57g3pHYi3p0JNVO1LkcyYbeMDBf.jpg\n",
      "Title: 비틀쥬스, Poster: https://image.tmdb.org/t/p/w500/nnl6OWkyPpuMm595hmAxNW3rZFn.jpg\n"
     ]
    }
   ],
   "source": [
    "# 추천된 영화 제목과 포스터 출력\n",
    "for img, title in zip(images, titles):\n",
    "    print(f\"Title: {title}, Poster: {img}\")"
   ]
  }
 ],
 "metadata": {
  "kernelspec": {
   "display_name": "Python 3 (ipykernel)",
   "language": "python",
   "name": "python3"
  },
  "language_info": {
   "codemirror_mode": {
    "name": "ipython",
    "version": 3
   },
   "file_extension": ".py",
   "mimetype": "text/x-python",
   "name": "python",
   "nbconvert_exporter": "python",
   "pygments_lexer": "ipython3",
   "version": "3.12.3"
  }
 },
 "nbformat": 4,
 "nbformat_minor": 5
}
