{
 "cells": [
  {
   "cell_type": "markdown",
   "id": "7f5a8006-57ef-466f-9e21-578d40767266",
   "metadata": {},
   "source": [
    "# 프로필 기반 추천\n",
    "- 목적 : 사용자가 회원가입 시 선택한 선호 장르를 기반으로 개인화된 추천 영화를 제공"
   ]
  },
  {
   "cell_type": "markdown",
   "id": "aea0bbe1-a277-40f1-8ad7-d3bbedfab2b8",
   "metadata": {},
   "source": [
    "1. 사용자가 회원가입할 때 선택한 선호 장르 정보를 기반으로 영화 데이터에서 해당 장르의 최신 영화 목록을 필터링\n",
    "1. TMDb API에서 최신 영화 데이터를 가져오고, 해당 장르와 일치하는 영화만 추출\n",
    "1. 추천 리스트는 최신순 또는 출시일 기준으로 정렬하여 사용자에게 보여줌"
   ]
  },
  {
   "cell_type": "code",
   "execution_count": 1,
   "id": "46834ec6-f6c6-4771-9099-d6fa484ca687",
   "metadata": {},
   "outputs": [],
   "source": [
    "import pickle # 저장된 데이터를 불러오기 위함\n",
    "from tmdbv3api import Movie, TMDb, Discover # TMDb API를 통해 영화 데이터를 가져오기 위해 필요한 모듈"
   ]
  },
  {
   "cell_type": "code",
   "execution_count": 2,
   "id": "2a968aaf-b6aa-44b3-91fd-115accff31b0",
   "metadata": {},
   "outputs": [],
   "source": [
    "# TMDb API를 설정하는 부분\n",
    "movie = Movie() # TMDb API의 Movie 객체 생성\n",
    "tmdb = TMDb() # TMDb 설정 객체 생성\n",
    "discover = Discover() # Discover 객체 생성\n",
    "tmdb.api_key = '0ee6a32fe14b93379e743072a6c9cf58' # 발급받은 TMDb API 키를 설정\n",
    "tmdb.language = 'ko-KR' # API 응답 언어를 한국어로 설정"
   ]
  },
  {
   "cell_type": "code",
   "execution_count": 9,
   "id": "4ed6b33b-4379-4b5b-a3c4-5428a0029de9",
   "metadata": {},
   "outputs": [],
   "source": [
    "# 프로필 기반 추천 함수\n",
    "def get_profile_based_recommendations(user_profile):\n",
    "    preferred_genres = user_profile['preferred_genres']  # 사용자가 선택한 선호 장르 리스트\n",
    "    recommended_movies = []\n",
    "    \n",
    "    for genre in preferred_genres:\n",
    "        # Discover 객체를 사용하여 해당 장르의 영화 검색\n",
    "        movies_in_genre = discover.discover_movies({\n",
    "            'with_genres': genre,\n",
    "            'sort_by': 'release_date.desc'  # 최신순으로 정렬\n",
    "        })\n",
    "        recommended_movies.extend(movies_in_genre)\n",
    "    \n",
    "    # 추천 영화의 포스터 이미지 URL과 영화 제목 리스트 생성\n",
    "    images = []\n",
    "    titles = []\n",
    "    for movie in recommended_movies[:10]:  # 상위 10개의 영화만 처리\n",
    "        poster_path = movie.poster_path\n",
    "        if poster_path:\n",
    "            poster_url = 'https://image.tmdb.org/t/p/w500' + poster_path\n",
    "        else:\n",
    "            poster_url = 'no_image.jpg'  # 포스터 이미지가 없을 경우 기본 이미지\n",
    "        \n",
    "        # 영화의 포스터 URL과 제목을 리스트에 추가\n",
    "        images.append(poster_url)\n",
    "        titles.append(movie.title)  # 언어 설정에 따라 한국어 제목 반환\n",
    "\n",
    "    return images, titles  # 영화 포스터와 제목 리스트 반환"
   ]
  },
  {
   "cell_type": "code",
   "execution_count": 20,
   "id": "c15b4d5c-24f5-414c-83c6-56117a2f5789",
   "metadata": {},
   "outputs": [],
   "source": [
    "#TMDb 장르 ID 목록 예시:\n",
    "#액션 (28), 모험 (12), 애니메이션 (16), 코미디 (35), 범죄 (80), 다큐멘터리 (99), 드라마 (18), 가족 (10751), \n",
    "#판타지 (14), 역사 (36), 공포 (27), 음악 (10402), 미스터리 (9648), 로맨스 (10749), SF (878), 스릴러 (53), \n",
    "#전쟁 (10752), 서부 (37)\n",
    "\n",
    "# 사용자 프로필 예시\n",
    "user_profile = {\n",
    "    'preferred_genres': [14]\n",
    "}"
   ]
  },
  {
   "cell_type": "code",
   "execution_count": 21,
   "id": "c8af999e-e6e5-45ba-8d6e-60290113de6d",
   "metadata": {},
   "outputs": [],
   "source": [
    "# 추천된 영화 목록 가져오기\n",
    "images, titles = get_profile_based_recommendations(user_profile)"
   ]
  },
  {
   "cell_type": "code",
   "execution_count": 22,
   "id": "134d8dc5-fa7e-4630-b565-1ebd74aabfb7",
   "metadata": {},
   "outputs": [
    {
     "name": "stdout",
     "output_type": "stream",
     "text": [
      "Title: 아바타 5, Poster: https://image.tmdb.org/t/p/w500/vAvLQOyFoire5x8AmRNfvgkvrMZ.jpg\n",
      "Title: Portal Quest 3: TDB, Poster: https://image.tmdb.org/t/p/w500/rpKU0FE1JxxkykD0soxXLoZWu3e.jpg\n",
      "Title: 아바타 4, Poster: https://image.tmdb.org/t/p/w500/xGcd3ob2DWC3TmlVhnJg1RLyTGi.jpg\n",
      "Title: Portal Quest 2: TDB, Poster: https://image.tmdb.org/t/p/w500/t4suLJc2E1Ui0Uo16HpaKoBXwvo.jpg\n",
      "Title: 겨울왕국 3, Poster: https://image.tmdb.org/t/p/w500/8eUfD6fzNWWyuwUYxeSI3grxpy0.jpg\n",
      "Title: Are You There God? You Forgot Me, Phil., Poster: no_image.jpg\n",
      "Title: Thing One and Thing Two, Poster: no_image.jpg\n",
      "Title: Woodwalkers 3, Poster: no_image.jpg\n",
      "Title: 모아나, Poster: https://image.tmdb.org/t/p/w500/ys0jZr0quHERDUEoCboGQEKPvgQ.jpg\n",
      "Title: Shrek 5, Poster: https://image.tmdb.org/t/p/w500/8XwmMjwiQ91Rm0eU4AcxyFA3XUZ.jpg\n"
     ]
    }
   ],
   "source": [
    "# 추천된 영화 제목과 포스터 출력\n",
    "for img, title in zip(images, titles):\n",
    "    print(f\"Title: {title}, Poster: {img}\")"
   ]
  }
 ],
 "metadata": {
  "kernelspec": {
   "display_name": "Python 3 (ipykernel)",
   "language": "python",
   "name": "python3"
  },
  "language_info": {
   "codemirror_mode": {
    "name": "ipython",
    "version": 3
   },
   "file_extension": ".py",
   "mimetype": "text/x-python",
   "name": "python",
   "nbconvert_exporter": "python",
   "pygments_lexer": "ipython3",
   "version": "3.12.3"
  }
 },
 "nbformat": 4,
 "nbformat_minor": 5
}
